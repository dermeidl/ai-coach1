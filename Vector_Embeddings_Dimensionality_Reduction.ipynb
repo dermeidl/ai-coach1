{
 "cells": [
  {
   "cell_type": "code",
   "execution_count": 22,
   "id": "a0e9ec22",
   "metadata": {},
   "outputs": [],
   "source": [
    "import pandas as pd\n",
    "from sklearn.manifold import TSNE\n",
    "import numpy as np\n",
    "import matplotlib.pyplot as plt\n",
    "import matplotlib\n",
    "from sklearn.decomposition import PCA\n",
    "import altair as alt"
   ]
  },
  {
   "cell_type": "code",
   "execution_count": 4,
   "id": "72cbd0d7",
   "metadata": {},
   "outputs": [
    {
     "data": {
      "text/html": [
       "<div>\n",
       "<style scoped>\n",
       "    .dataframe tbody tr th:only-of-type {\n",
       "        vertical-align: middle;\n",
       "    }\n",
       "\n",
       "    .dataframe tbody tr th {\n",
       "        vertical-align: top;\n",
       "    }\n",
       "\n",
       "    .dataframe thead th {\n",
       "        text-align: right;\n",
       "    }\n",
       "</style>\n",
       "<table border=\"1\" class=\"dataframe\">\n",
       "  <thead>\n",
       "    <tr style=\"text-align: right;\">\n",
       "      <th></th>\n",
       "      <th>Unnamed: 0</th>\n",
       "      <th>Date</th>\n",
       "      <th>Text</th>\n",
       "      <th>embedding</th>\n",
       "    </tr>\n",
       "  </thead>\n",
       "  <tbody>\n",
       "    <tr>\n",
       "      <th>0</th>\n",
       "      <td>0</td>\n",
       "      <td>2023.04.13</td>\n",
       "      <td>Heute ist ein anstrengender Tag. Ich fühle mic...</td>\n",
       "      <td>[-0.013157208450138569, 0.021695327013731003, ...</td>\n",
       "    </tr>\n",
       "    <tr>\n",
       "      <th>1</th>\n",
       "      <td>1</td>\n",
       "      <td>2023.04.13</td>\n",
       "      <td>und kann kaum schlafen. In der Nacht wache ich...</td>\n",
       "      <td>[0.003661468392238021, -0.000654112605843693, ...</td>\n",
       "    </tr>\n",
       "    <tr>\n",
       "      <th>2</th>\n",
       "      <td>2</td>\n",
       "      <td>2023.04.13</td>\n",
       "      <td>ununterbrochen um all die Dinge, die ich noch ...</td>\n",
       "      <td>[-0.020109066739678383, -0.016105275601148605,...</td>\n",
       "    </tr>\n",
       "    <tr>\n",
       "      <th>3</th>\n",
       "      <td>3</td>\n",
       "      <td>2023.04.13</td>\n",
       "      <td>dass ich keine Energie mehr habe und bin desha...</td>\n",
       "      <td>[-0.015369167551398277, 0.0031932354904711246,...</td>\n",
       "    </tr>\n",
       "    <tr>\n",
       "      <th>4</th>\n",
       "      <td>4</td>\n",
       "      <td>2023.04.13</td>\n",
       "      <td>Ich hoffe, dass sich das bald ändert und ich w...</td>\n",
       "      <td>[4.741560042020865e-05, -0.01711934246122837, ...</td>\n",
       "    </tr>\n",
       "  </tbody>\n",
       "</table>\n",
       "</div>"
      ],
      "text/plain": [
       "   Unnamed: 0        Date                                               Text  \\\n",
       "0           0  2023.04.13  Heute ist ein anstrengender Tag. Ich fühle mic...   \n",
       "1           1  2023.04.13  und kann kaum schlafen. In der Nacht wache ich...   \n",
       "2           2  2023.04.13  ununterbrochen um all die Dinge, die ich noch ...   \n",
       "3           3  2023.04.13  dass ich keine Energie mehr habe und bin desha...   \n",
       "4           4  2023.04.13  Ich hoffe, dass sich das bald ändert und ich w...   \n",
       "\n",
       "                                           embedding  \n",
       "0  [-0.013157208450138569, 0.021695327013731003, ...  \n",
       "1  [0.003661468392238021, -0.000654112605843693, ...  \n",
       "2  [-0.020109066739678383, -0.016105275601148605,...  \n",
       "3  [-0.015369167551398277, 0.0031932354904711246,...  \n",
       "4  [4.741560042020865e-05, -0.01711934246122837, ...  "
      ]
     },
     "execution_count": 4,
     "metadata": {},
     "output_type": "execute_result"
    }
   ],
   "source": [
    "path = \"embeddings/Journal_embedding.csv\"\n",
    "df = pd.read_csv(path)\n",
    "df.head()"
   ]
  },
  {
   "cell_type": "code",
   "execution_count": 5,
   "id": "8d4d5bdf",
   "metadata": {},
   "outputs": [
    {
     "data": {
      "text/plain": [
       "array([[-0.01315721,  0.02169533,  0.01783518, ...,  0.00570844,\n",
       "         0.00985319, -0.03135223],\n",
       "       [ 0.00366147, -0.00065411,  0.01981942, ...,  0.01795744,\n",
       "        -0.00398325, -0.03751443],\n",
       "       [-0.02010907, -0.01610528, -0.00664938, ..., -0.00660432,\n",
       "         0.02485954, -0.03455361],\n",
       "       ...,\n",
       "       [ 0.00656488,  0.00735993,  0.01333095, ...,  0.0063507 ,\n",
       "         0.0191462 , -0.03507324],\n",
       "       [-0.01286654, -0.0205814 ,  0.01822707, ..., -0.0053542 ,\n",
       "         0.001405  , -0.03204926],\n",
       "       [ 0.00840679, -0.03650654, -0.00063187, ...,  0.01064988,\n",
       "         0.01370281, -0.02701998]])"
      ]
     },
     "execution_count": 5,
     "metadata": {},
     "output_type": "execute_result"
    }
   ],
   "source": [
    "matrix = np.array(df.embedding.apply(eval).to_list())\n",
    "matrix"
   ]
  },
  {
   "cell_type": "code",
   "execution_count": 6,
   "id": "ea6cbc0c",
   "metadata": {},
   "outputs": [
    {
     "data": {
      "text/plain": [
       "(25, 1536)"
      ]
     },
     "execution_count": 6,
     "metadata": {},
     "output_type": "execute_result"
    }
   ],
   "source": [
    "matrix.shape"
   ]
  },
  {
   "cell_type": "code",
   "execution_count": 7,
   "id": "4c803e09",
   "metadata": {},
   "outputs": [
    {
     "data": {
      "text/plain": [
       "(25, 2)"
      ]
     },
     "execution_count": 7,
     "metadata": {},
     "output_type": "execute_result"
    }
   ],
   "source": [
    "tsne = TSNE(n_components=2, perplexity=15, random_state=42, init='random', learning_rate=200)\n",
    "dimensions = tsne.fit_transform(matrix)\n",
    "dimensions.shape"
   ]
  },
  {
   "cell_type": "code",
   "execution_count": 9,
   "id": "99e9dd5d",
   "metadata": {},
   "outputs": [],
   "source": [
    "x = [x for x,y in dimensions]\n",
    "y = [y for x,y in dimensions]"
   ]
  },
  {
   "cell_type": "code",
   "execution_count": 10,
   "id": "6080cd94",
   "metadata": {},
   "outputs": [
    {
     "data": {
      "text/plain": [
       "Text(0.5, 1.0, 'Journal entries (chunks) visualized using t-SNE')"
      ]
     },
     "execution_count": 10,
     "metadata": {},
     "output_type": "execute_result"
    },
    {
     "data": {
      "image/png": "[encoded data removed]",
      "text/plain": [
       "<Figure size 640x480 with 1 Axes>"
      ]
     },
     "metadata": {},
     "output_type": "display_data"
    }
   ],
   "source": [
    "plt.scatter(x,y)\n",
    "plt.title(\"Journal entries (chunks) visualized using t-SNE\")"
   ]
  },
  {
   "cell_type": "code",
   "execution_count": 12,
   "id": "a8185729",
   "metadata": {},
   "outputs": [],
   "source": [
    "pca = PCA(n_components=2)\n",
    "embeddings_pca = pca.fit_transform(matrix)"
   ]
  },
  {
   "cell_type": "code",
   "execution_count": 13,
   "id": "0a044814",
   "metadata": {},
   "outputs": [],
   "source": [
    "a = [a for a,b in embeddings_pca]\n",
    "b = [b for a,b in embeddings_pca]"
   ]
  },
  {
   "cell_type": "code",
   "execution_count": 14,
   "id": "839376ba",
   "metadata": {},
   "outputs": [
    {
     "data": {
      "text/plain": [
       "<matplotlib.collections.PathCollection at 0x26559183280>"
      ]
     },
     "execution_count": 14,
     "metadata": {},
     "output_type": "execute_result"
    },
    {
     "data": {
      "image/png": "[encoded data removed]",
      "text/plain": [
       "<Figure size 640x480 with 1 Axes>"
      ]
     },
     "metadata": {},
     "output_type": "display_data"
    }
   ],
   "source": [
    "plt.scatter(a,b)"
   ]
  },
  {
   "cell_type": "code",
   "execution_count": 15,
   "id": "28e0f996",
   "metadata": {},
   "outputs": [
    {
     "data": {
      "text/plain": [
       "array([0.13272615, 0.0829924 ])"
      ]
     },
     "execution_count": 15,
     "metadata": {},
     "output_type": "execute_result"
    }
   ],
   "source": [
    "pca.explained_variance_ratio_"
   ]
  },
  {
   "cell_type": "code",
   "execution_count": 17,
   "id": "ba80cdc3",
   "metadata": {},
   "outputs": [],
   "source": [
    "chart_data = pd.DataFrame(\n",
    "    np.random.randn(20, 3),\n",
    "    columns=['a', 'b', 'c'])"
   ]
  },
  {
   "cell_type": "code",
   "execution_count": 20,
   "id": "d769673e",
   "metadata": {},
   "outputs": [],
   "source": [
    "c = alt.Chart(chart_data).mark_circle().encode(\n",
    "    x='a', y='b', size='c', color='c', tooltip=['a', 'b', 'c']).interactive()"
   ]
  },
  {
   "cell_type": "code",
   "execution_count": 21,
   "id": "ad4e3919",
   "metadata": {},
   "outputs": [
    {
     "data": {
      "text/html": [
       "\n",
       "<div id=\"altair-viz-5545833b7e074431a71b6a4413a609ec\"></div>\n",
       "<script type=\"text/javascript\">\n",
       "  var VEGA_DEBUG = (typeof VEGA_DEBUG == \"undefined\") ? {} : VEGA_DEBUG;\n",
       "  (function(spec, embedOpt){\n",
       "    let outputDiv = document.currentScript.previousElementSibling;\n",
       "    if (outputDiv.id !== \"altair-viz-5545833b7e074431a71b6a4413a609ec\") {\n",
       "      outputDiv = document.getElementById(\"altair-viz-5545833b7e074431a71b6a4413a609ec\");\n",
       "    }\n",
       "    const paths = {\n",
       "      \"vega\": \"https://cdn.jsdelivr.net/npm//vega@5?noext\",\n",
       "      \"vega-lib\": \"https://cdn.jsdelivr.net/npm//vega-lib?noext\",\n",
       "      \"vega-lite\": \"https://cdn.jsdelivr.net/npm//vega-lite@4.17.0?noext\",\n",
       "      \"vega-embed\": \"https://cdn.jsdelivr.net/npm//vega-embed@6?noext\",\n",
       "    };\n",
       "\n",
       "    function maybeLoadScript(lib, version) {\n",
       "      var key = `${lib.replace(\"-\", \"\")}_version`;\n",
       "      return (VEGA_DEBUG[key] == version) ?\n",
       "        Promise.resolve(paths[lib]) :\n",
       "        new Promise(function(resolve, reject) {\n",
       "          var s = document.createElement('script');\n",
       "          document.getElementsByTagName(\"head\")[0].appendChild(s);\n",
       "          s.async = true;\n",
       "          s.onload = () => {\n",
       "            VEGA_DEBUG[key] = version;\n",
       "            return resolve(paths[lib]);\n",
       "          };\n",
       "          s.onerror = () => reject(`Error loading script: ${paths[lib]}`);\n",
       "          s.src = paths[lib];\n",
       "        });\n",
       "    }\n",
       "\n",
       "    function showError(err) {\n",
       "      outputDiv.innerHTML = `<div class=\"error\" style=\"color:red;\">${err}</div>`;\n",
       "      throw err;\n",
       "    }\n",
       "\n",
       "    function displayChart(vegaEmbed) {\n",
       "      vegaEmbed(outputDiv, spec, embedOpt)\n",
       "        .catch(err => showError(`Javascript Error: ${err.message}<br>This usually means there's a typo in your chart specification. See the javascript console for the full traceback.`));\n",
       "    }\n",
       "\n",
       "    if(typeof define === \"function\" && define.amd) {\n",
       "      requirejs.config({paths});\n",
       "      require([\"vega-embed\"], displayChart, err => showError(`Error loading script: ${err.message}`));\n",
       "    } else {\n",
       "      maybeLoadScript(\"vega\", \"5\")\n",
       "        .then(() => maybeLoadScript(\"vega-lite\", \"4.17.0\"))\n",
       "        .then(() => maybeLoadScript(\"vega-embed\", \"6\"))\n",
       "        .catch(showError)\n",
       "        .then(() => displayChart(vegaEmbed));\n",
       "    }\n",
       "  })({\"config\": {\"view\": {\"continuousWidth\": 400, \"continuousHeight\": 300}}, \"data\": {\"name\": \"data-e32b7c254b6b9de932588533484509cf\"}, \"mark\": \"circle\", \"encoding\": {\"color\": {\"field\": \"c\", \"type\": \"quantitative\"}, \"size\": {\"field\": \"c\", \"type\": \"quantitative\"}, \"tooltip\": [{\"field\": \"a\", \"type\": \"quantitative\"}, {\"field\": \"b\", \"type\": \"quantitative\"}, {\"field\": \"c\", \"type\": \"quantitative\"}], \"x\": {\"field\": \"a\", \"type\": \"quantitative\"}, \"y\": {\"field\": \"b\", \"type\": \"quantitative\"}}, \"selection\": {\"selector001\": {\"type\": \"interval\", \"bind\": \"scales\", \"encodings\": [\"x\", \"y\"]}}, \"$schema\": \"https://vega.github.io/schema/vega-lite/v4.17.0.json\", \"datasets\": {\"data-e32b7c254b6b9de932588533484509cf\": [{\"a\": -0.21401142106963492, \"b\": -1.7348939672531352, \"c\": 1.1423923592515923}, {\"a\": 0.3988634316036187, \"b\": 3.040810167429464, \"c\": -0.2363962440340617}, {\"a\": 0.21297238572696095, \"b\": -0.15400454167915006, \"c\": 1.3323305504364225}, {\"a\": 0.7141556541485329, \"b\": 0.39989524220760697, \"c\": 0.720272297698621}, {\"a\": -1.0481635380778949, \"b\": 0.27810772466062805, \"c\": 0.7760623372049713}, {\"a\": 1.626263090468231, \"b\": -1.1728819576943879, \"c\": -0.05185108104528558}, {\"a\": 0.461527329981744, \"b\": 1.5262715825278261, \"c\": -0.9190484089804574}, {\"a\": 0.5957342625690017, \"b\": -0.34487740656982924, \"c\": 0.0861907032413566}, {\"a\": 0.3749105216589705, \"b\": 0.6474188861055786, \"c\": -0.8500935151434953}, {\"a\": -1.9027127609090244, \"b\": 1.1839708487567602, \"c\": -0.7403917940006323}, {\"a\": 0.33074173413108743, \"b\": -0.7955301542150615, \"c\": 0.7547594412310513}, {\"a\": 0.323464415276976, \"b\": -1.4245160181766046, \"c\": -0.7741895048886681}, {\"a\": -0.626177933136899, \"b\": 0.4904389262635511, \"c\": -0.7357068236930329}, {\"a\": -0.45380426345868496, \"b\": -1.1601731820721344, \"c\": 0.4423190398599514}, {\"a\": 0.3927027801816421, \"b\": 0.5634013009820154, \"c\": 0.002497846445620923}, {\"a\": -1.8125207916226111, \"b\": 0.6153861860605031, \"c\": -0.8933721383626819}, {\"a\": 1.748510603856081, \"b\": 0.6715662865513066, \"c\": 0.8398973201352332}, {\"a\": 1.1541989477950783, \"b\": 0.9656044290298401, \"c\": 0.20466679292218012}, {\"a\": 0.8629390720167593, \"b\": 0.0456270068943379, \"c\": -0.42646597420245064}, {\"a\": -0.9603345465694594, \"b\": -0.27998750170328957, \"c\": 0.4220482214745518}]}}, {\"mode\": \"vega-lite\"});\n",
       "</script>"
      ],
      "text/plain": [
       "alt.Chart(...)"
      ]
     },
     "execution_count": 21,
     "metadata": {},
     "output_type": "execute_result"
    }
   ],
   "source": [
    "c"
   ]
  },
  {
   "cell_type": "markdown",
   "id": "4750843d",
   "metadata": {},
   "source": [
    "# Testing other things\n",
    "\n",
    "https://www.geeksforgeeks.org/python-list-files-in-a-directory/\n",
    "For further specification (only .txt files, no folders etc)"
   ]
  },
  {
   "cell_type": "code",
   "execution_count": 24,
   "id": "bf3b2e29",
   "metadata": {},
   "outputs": [],
   "source": [
    "import os"
   ]
  },
  {
   "cell_type": "code",
   "execution_count": 25,
   "id": "2bde1a08",
   "metadata": {},
   "outputs": [],
   "source": [
    "path_embeddings = \"embeddings\""
   ]
  },
  {
   "cell_type": "code",
   "execution_count": 29,
   "id": "7670ff01",
   "metadata": {},
   "outputs": [
    {
     "data": {
      "text/plain": [
       "['Journal_embedding - Kopie.csv', 'Journal_embedding.csv']"
      ]
     },
     "execution_count": 29,
     "metadata": {},
     "output_type": "execute_result"
    }
   ],
   "source": [
    "dir_list = os.listdir(path_embeddings)\n",
    "dir_list"
   ]
  },
  {
   "cell_type": "code",
   "execution_count": null,
   "id": "440bcacb",
   "metadata": {},
   "outputs": [],
   "source": []
  }
 ],
 "metadata": {
  "kernelspec": {
   "display_name": "Python 3 (ipykernel)",
   "language": "python",
   "name": "python3"
  },
  "language_info": {
   "codemirror_mode": {
    "name": "ipython",
    "version": 3
   },
   "file_extension": ".py",
   "mimetype": "text/x-python",
   "name": "python",
   "nbconvert_exporter": "python",
   "pygments_lexer": "ipython3",
   "version": "3.10.9"
  }
 },
 "nbformat": 4,
 "nbformat_minor": 5
}
